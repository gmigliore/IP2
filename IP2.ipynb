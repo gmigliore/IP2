{
 "cells": [
  {
   "cell_type": "markdown",
   "id": "a649b27d",
   "metadata": {},
   "source": [
    "### IP2\n",
    "### Gabriel Migliore"
   ]
  },
  {
   "cell_type": "code",
   "execution_count": 1,
   "id": "781f5d88",
   "metadata": {},
   "outputs": [
    {
     "name": "stdout",
     "output_type": "stream",
     "text": [
      "Requirement already satisfied: pandas in d:\\documents\\anaconda\\lib\\site-packages (1.3.4)\n",
      "Requirement already satisfied: pytz>=2017.3 in d:\\documents\\anaconda\\lib\\site-packages (from pandas) (2021.3)\n",
      "Requirement already satisfied: python-dateutil>=2.7.3 in d:\\documents\\anaconda\\lib\\site-packages (from pandas) (2.8.2)\n",
      "Requirement already satisfied: numpy>=1.17.3 in d:\\documents\\anaconda\\lib\\site-packages (from pandas) (1.20.3)\n",
      "Requirement already satisfied: six>=1.5 in d:\\documents\\anaconda\\lib\\site-packages (from python-dateutil>=2.7.3->pandas) (1.16.0)\n"
     ]
    }
   ],
   "source": [
    "!pip install pandas\n",
    "import pandas as pd\n",
    "import numpy as np"
   ]
  },
  {
   "cell_type": "markdown",
   "id": "f058b43a",
   "metadata": {},
   "source": [
    "1. Attach File to Dataset"
   ]
  },
  {
   "cell_type": "code",
   "execution_count": 4,
   "id": "71d5b346",
   "metadata": {},
   "outputs": [],
   "source": [
    "df=pd.read_csv(\"weather_2012.csv\")"
   ]
  },
  {
   "cell_type": "markdown",
   "id": "64ed6661",
   "metadata": {},
   "source": [
    "2. Print First 5 Data Cells, Last 5, Random 5"
   ]
  },
  {
   "cell_type": "code",
   "execution_count": 5,
   "id": "c16ebde2",
   "metadata": {},
   "outputs": [
    {
     "data": {
      "text/html": [
       "<div>\n",
       "<style scoped>\n",
       "    .dataframe tbody tr th:only-of-type {\n",
       "        vertical-align: middle;\n",
       "    }\n",
       "\n",
       "    .dataframe tbody tr th {\n",
       "        vertical-align: top;\n",
       "    }\n",
       "\n",
       "    .dataframe thead th {\n",
       "        text-align: right;\n",
       "    }\n",
       "</style>\n",
       "<table border=\"1\" class=\"dataframe\">\n",
       "  <thead>\n",
       "    <tr style=\"text-align: right;\">\n",
       "      <th></th>\n",
       "      <th>Date/Time</th>\n",
       "      <th>Temp (C)</th>\n",
       "      <th>Dew Point Temp (C)</th>\n",
       "      <th>Rel Hum (%)</th>\n",
       "      <th>Wind Spd (km/h)</th>\n",
       "      <th>Visibility (km)</th>\n",
       "      <th>Stn Press (kPa)</th>\n",
       "      <th>Weather</th>\n",
       "    </tr>\n",
       "  </thead>\n",
       "  <tbody>\n",
       "    <tr>\n",
       "      <th>0</th>\n",
       "      <td>2012-01-01 00:00:00</td>\n",
       "      <td>-1.8</td>\n",
       "      <td>-3.9</td>\n",
       "      <td>86</td>\n",
       "      <td>4</td>\n",
       "      <td>8.0</td>\n",
       "      <td>101.24</td>\n",
       "      <td>Fog</td>\n",
       "    </tr>\n",
       "    <tr>\n",
       "      <th>1</th>\n",
       "      <td>2012-01-01 01:00:00</td>\n",
       "      <td>-1.8</td>\n",
       "      <td>-3.7</td>\n",
       "      <td>87</td>\n",
       "      <td>4</td>\n",
       "      <td>8.0</td>\n",
       "      <td>101.24</td>\n",
       "      <td>Fog</td>\n",
       "    </tr>\n",
       "    <tr>\n",
       "      <th>2</th>\n",
       "      <td>2012-01-01 02:00:00</td>\n",
       "      <td>-1.8</td>\n",
       "      <td>-3.4</td>\n",
       "      <td>89</td>\n",
       "      <td>7</td>\n",
       "      <td>4.0</td>\n",
       "      <td>101.26</td>\n",
       "      <td>Freezing Drizzle,Fog</td>\n",
       "    </tr>\n",
       "    <tr>\n",
       "      <th>3</th>\n",
       "      <td>2012-01-01 03:00:00</td>\n",
       "      <td>-1.5</td>\n",
       "      <td>-3.2</td>\n",
       "      <td>88</td>\n",
       "      <td>6</td>\n",
       "      <td>4.0</td>\n",
       "      <td>101.27</td>\n",
       "      <td>Freezing Drizzle,Fog</td>\n",
       "    </tr>\n",
       "    <tr>\n",
       "      <th>4</th>\n",
       "      <td>2012-01-01 04:00:00</td>\n",
       "      <td>-1.5</td>\n",
       "      <td>-3.3</td>\n",
       "      <td>88</td>\n",
       "      <td>7</td>\n",
       "      <td>4.8</td>\n",
       "      <td>101.23</td>\n",
       "      <td>Fog</td>\n",
       "    </tr>\n",
       "  </tbody>\n",
       "</table>\n",
       "</div>"
      ],
      "text/plain": [
       "             Date/Time  Temp (C)  Dew Point Temp (C)  Rel Hum (%)  \\\n",
       "0  2012-01-01 00:00:00      -1.8                -3.9           86   \n",
       "1  2012-01-01 01:00:00      -1.8                -3.7           87   \n",
       "2  2012-01-01 02:00:00      -1.8                -3.4           89   \n",
       "3  2012-01-01 03:00:00      -1.5                -3.2           88   \n",
       "4  2012-01-01 04:00:00      -1.5                -3.3           88   \n",
       "\n",
       "   Wind Spd (km/h)  Visibility (km)  Stn Press (kPa)               Weather  \n",
       "0                4              8.0           101.24                   Fog  \n",
       "1                4              8.0           101.24                   Fog  \n",
       "2                7              4.0           101.26  Freezing Drizzle,Fog  \n",
       "3                6              4.0           101.27  Freezing Drizzle,Fog  \n",
       "4                7              4.8           101.23                   Fog  "
      ]
     },
     "execution_count": 5,
     "metadata": {},
     "output_type": "execute_result"
    }
   ],
   "source": [
    "df.head()"
   ]
  },
  {
   "cell_type": "code",
   "execution_count": 6,
   "id": "7d8f9803",
   "metadata": {},
   "outputs": [
    {
     "data": {
      "text/html": [
       "<div>\n",
       "<style scoped>\n",
       "    .dataframe tbody tr th:only-of-type {\n",
       "        vertical-align: middle;\n",
       "    }\n",
       "\n",
       "    .dataframe tbody tr th {\n",
       "        vertical-align: top;\n",
       "    }\n",
       "\n",
       "    .dataframe thead th {\n",
       "        text-align: right;\n",
       "    }\n",
       "</style>\n",
       "<table border=\"1\" class=\"dataframe\">\n",
       "  <thead>\n",
       "    <tr style=\"text-align: right;\">\n",
       "      <th></th>\n",
       "      <th>Date/Time</th>\n",
       "      <th>Temp (C)</th>\n",
       "      <th>Dew Point Temp (C)</th>\n",
       "      <th>Rel Hum (%)</th>\n",
       "      <th>Wind Spd (km/h)</th>\n",
       "      <th>Visibility (km)</th>\n",
       "      <th>Stn Press (kPa)</th>\n",
       "      <th>Weather</th>\n",
       "    </tr>\n",
       "  </thead>\n",
       "  <tbody>\n",
       "    <tr>\n",
       "      <th>8779</th>\n",
       "      <td>2012-12-31 19:00:00</td>\n",
       "      <td>0.1</td>\n",
       "      <td>-2.7</td>\n",
       "      <td>81</td>\n",
       "      <td>30</td>\n",
       "      <td>9.7</td>\n",
       "      <td>100.13</td>\n",
       "      <td>Snow</td>\n",
       "    </tr>\n",
       "    <tr>\n",
       "      <th>8780</th>\n",
       "      <td>2012-12-31 20:00:00</td>\n",
       "      <td>0.2</td>\n",
       "      <td>-2.4</td>\n",
       "      <td>83</td>\n",
       "      <td>24</td>\n",
       "      <td>9.7</td>\n",
       "      <td>100.03</td>\n",
       "      <td>Snow</td>\n",
       "    </tr>\n",
       "    <tr>\n",
       "      <th>8781</th>\n",
       "      <td>2012-12-31 21:00:00</td>\n",
       "      <td>-0.5</td>\n",
       "      <td>-1.5</td>\n",
       "      <td>93</td>\n",
       "      <td>28</td>\n",
       "      <td>4.8</td>\n",
       "      <td>99.95</td>\n",
       "      <td>Snow</td>\n",
       "    </tr>\n",
       "    <tr>\n",
       "      <th>8782</th>\n",
       "      <td>2012-12-31 22:00:00</td>\n",
       "      <td>-0.2</td>\n",
       "      <td>-1.8</td>\n",
       "      <td>89</td>\n",
       "      <td>28</td>\n",
       "      <td>9.7</td>\n",
       "      <td>99.91</td>\n",
       "      <td>Snow</td>\n",
       "    </tr>\n",
       "    <tr>\n",
       "      <th>8783</th>\n",
       "      <td>2012-12-31 23:00:00</td>\n",
       "      <td>0.0</td>\n",
       "      <td>-2.1</td>\n",
       "      <td>86</td>\n",
       "      <td>30</td>\n",
       "      <td>11.3</td>\n",
       "      <td>99.89</td>\n",
       "      <td>Snow</td>\n",
       "    </tr>\n",
       "  </tbody>\n",
       "</table>\n",
       "</div>"
      ],
      "text/plain": [
       "                Date/Time  Temp (C)  Dew Point Temp (C)  Rel Hum (%)  \\\n",
       "8779  2012-12-31 19:00:00       0.1                -2.7           81   \n",
       "8780  2012-12-31 20:00:00       0.2                -2.4           83   \n",
       "8781  2012-12-31 21:00:00      -0.5                -1.5           93   \n",
       "8782  2012-12-31 22:00:00      -0.2                -1.8           89   \n",
       "8783  2012-12-31 23:00:00       0.0                -2.1           86   \n",
       "\n",
       "      Wind Spd (km/h)  Visibility (km)  Stn Press (kPa) Weather  \n",
       "8779               30              9.7           100.13    Snow  \n",
       "8780               24              9.7           100.03    Snow  \n",
       "8781               28              4.8            99.95    Snow  \n",
       "8782               28              9.7            99.91    Snow  \n",
       "8783               30             11.3            99.89    Snow  "
      ]
     },
     "execution_count": 6,
     "metadata": {},
     "output_type": "execute_result"
    }
   ],
   "source": [
    "df.tail()"
   ]
  },
  {
   "cell_type": "code",
   "execution_count": 8,
   "id": "9e616587",
   "metadata": {
    "scrolled": true
   },
   "outputs": [
    {
     "data": {
      "text/html": [
       "<div>\n",
       "<style scoped>\n",
       "    .dataframe tbody tr th:only-of-type {\n",
       "        vertical-align: middle;\n",
       "    }\n",
       "\n",
       "    .dataframe tbody tr th {\n",
       "        vertical-align: top;\n",
       "    }\n",
       "\n",
       "    .dataframe thead th {\n",
       "        text-align: right;\n",
       "    }\n",
       "</style>\n",
       "<table border=\"1\" class=\"dataframe\">\n",
       "  <thead>\n",
       "    <tr style=\"text-align: right;\">\n",
       "      <th></th>\n",
       "      <th>Date/Time</th>\n",
       "      <th>Temp (C)</th>\n",
       "      <th>Dew Point Temp (C)</th>\n",
       "      <th>Rel Hum (%)</th>\n",
       "      <th>Wind Spd (km/h)</th>\n",
       "      <th>Visibility (km)</th>\n",
       "      <th>Stn Press (kPa)</th>\n",
       "      <th>Weather</th>\n",
       "    </tr>\n",
       "  </thead>\n",
       "  <tbody>\n",
       "    <tr>\n",
       "      <th>3670</th>\n",
       "      <td>2012-06-01 22:00:00</td>\n",
       "      <td>19.6</td>\n",
       "      <td>6.5</td>\n",
       "      <td>42</td>\n",
       "      <td>20</td>\n",
       "      <td>25.0</td>\n",
       "      <td>100.77</td>\n",
       "      <td>Cloudy</td>\n",
       "    </tr>\n",
       "    <tr>\n",
       "      <th>443</th>\n",
       "      <td>2012-01-19 11:00:00</td>\n",
       "      <td>-11.0</td>\n",
       "      <td>-16.9</td>\n",
       "      <td>62</td>\n",
       "      <td>26</td>\n",
       "      <td>48.3</td>\n",
       "      <td>101.56</td>\n",
       "      <td>Mostly Cloudy</td>\n",
       "    </tr>\n",
       "    <tr>\n",
       "      <th>170</th>\n",
       "      <td>2012-01-08 02:00:00</td>\n",
       "      <td>-1.7</td>\n",
       "      <td>-6.2</td>\n",
       "      <td>71</td>\n",
       "      <td>30</td>\n",
       "      <td>25.0</td>\n",
       "      <td>100.98</td>\n",
       "      <td>Mostly Cloudy</td>\n",
       "    </tr>\n",
       "    <tr>\n",
       "      <th>1390</th>\n",
       "      <td>2012-02-27 22:00:00</td>\n",
       "      <td>-7.1</td>\n",
       "      <td>-9.6</td>\n",
       "      <td>82</td>\n",
       "      <td>0</td>\n",
       "      <td>8.0</td>\n",
       "      <td>101.33</td>\n",
       "      <td>Snow</td>\n",
       "    </tr>\n",
       "    <tr>\n",
       "      <th>3502</th>\n",
       "      <td>2012-05-25 22:00:00</td>\n",
       "      <td>21.5</td>\n",
       "      <td>18.1</td>\n",
       "      <td>81</td>\n",
       "      <td>11</td>\n",
       "      <td>25.0</td>\n",
       "      <td>100.88</td>\n",
       "      <td>Mainly Clear</td>\n",
       "    </tr>\n",
       "  </tbody>\n",
       "</table>\n",
       "</div>"
      ],
      "text/plain": [
       "                Date/Time  Temp (C)  Dew Point Temp (C)  Rel Hum (%)  \\\n",
       "3670  2012-06-01 22:00:00      19.6                 6.5           42   \n",
       "443   2012-01-19 11:00:00     -11.0               -16.9           62   \n",
       "170   2012-01-08 02:00:00      -1.7                -6.2           71   \n",
       "1390  2012-02-27 22:00:00      -7.1                -9.6           82   \n",
       "3502  2012-05-25 22:00:00      21.5                18.1           81   \n",
       "\n",
       "      Wind Spd (km/h)  Visibility (km)  Stn Press (kPa)        Weather  \n",
       "3670               20             25.0           100.77         Cloudy  \n",
       "443                26             48.3           101.56  Mostly Cloudy  \n",
       "170                30             25.0           100.98  Mostly Cloudy  \n",
       "1390                0              8.0           101.33           Snow  \n",
       "3502               11             25.0           100.88   Mainly Clear  "
      ]
     },
     "execution_count": 8,
     "metadata": {},
     "output_type": "execute_result"
    }
   ],
   "source": [
    "df.sample(5)"
   ]
  },
  {
   "cell_type": "markdown",
   "id": "256820d9",
   "metadata": {},
   "source": [
    "3. List of all columns"
   ]
  },
  {
   "cell_type": "code",
   "execution_count": 12,
   "id": "e60b5b08",
   "metadata": {},
   "outputs": [
    {
     "name": "stdout",
     "output_type": "stream",
     "text": [
      "<class 'pandas.core.frame.DataFrame'>\n",
      "RangeIndex: 8784 entries, 0 to 8783\n",
      "Data columns (total 8 columns):\n",
      " #   Column              Non-Null Count  Dtype  \n",
      "---  ------              --------------  -----  \n",
      " 0   Date/Time           8784 non-null   object \n",
      " 1   Temp (C)            8784 non-null   float64\n",
      " 2   Dew Point Temp (C)  8784 non-null   float64\n",
      " 3   Rel Hum (%)         8784 non-null   int64  \n",
      " 4   Wind Spd (km/h)     8784 non-null   int64  \n",
      " 5   Visibility (km)     8784 non-null   float64\n",
      " 6   Stn Press (kPa)     8784 non-null   float64\n",
      " 7   Weather             8784 non-null   object \n",
      "dtypes: float64(4), int64(2), object(2)\n",
      "memory usage: 549.1+ KB\n"
     ]
    }
   ],
   "source": [
    "df.info()"
   ]
  },
  {
   "cell_type": "markdown",
   "id": "4f11fbad",
   "metadata": {},
   "source": [
    "4. Add underscores in replacement of spaces"
   ]
  },
  {
   "cell_type": "code",
   "execution_count": 14,
   "id": "2389e344",
   "metadata": {},
   "outputs": [],
   "source": [
    "df.columns=[column.replace(\" \",\"_\") for column in df.columns]"
   ]
  },
  {
   "cell_type": "code",
   "execution_count": 15,
   "id": "94655b90",
   "metadata": {},
   "outputs": [
    {
     "name": "stdout",
     "output_type": "stream",
     "text": [
      "<class 'pandas.core.frame.DataFrame'>\n",
      "RangeIndex: 8784 entries, 0 to 8783\n",
      "Data columns (total 8 columns):\n",
      " #   Column              Non-Null Count  Dtype  \n",
      "---  ------              --------------  -----  \n",
      " 0   Date/Time           8784 non-null   object \n",
      " 1   Temp_(C)            8784 non-null   float64\n",
      " 2   Dew_Point_Temp_(C)  8784 non-null   float64\n",
      " 3   Rel_Hum_(%)         8784 non-null   int64  \n",
      " 4   Wind_Spd_(km/h)     8784 non-null   int64  \n",
      " 5   Visibility_(km)     8784 non-null   float64\n",
      " 6   Stn_Press_(kPa)     8784 non-null   float64\n",
      " 7   Weather             8784 non-null   object \n",
      "dtypes: float64(4), int64(2), object(2)\n",
      "memory usage: 549.1+ KB\n"
     ]
    }
   ],
   "source": [
    "df.info()"
   ]
  },
  {
   "cell_type": "code",
   "execution_count": 28,
   "id": "e3fac9b9",
   "metadata": {},
   "outputs": [],
   "source": [
    "df=df.rename(columns={'Temp_(C)' : 'temp_c'})\n",
    "df=df.rename(columns={'Dew_Point_Temp_(C)' : 'dew_point'})\n",
    "df=df.rename(columns={'Rel_Hum_(%)' : 'relative_himidity'})\n",
    "df=df.rename(columns={'Wind_Spd_(km/h)' : 'wind_speed'})\n",
    "df=df.rename(columns={'Visibility_(km)' : 'visibility'})\n",
    "df=df.rename(columns={'Stn_Press_(kPa)' : 'pressure'})\n",
    "df=df.rename(columns={'Weather' : 'weather'})"
   ]
  },
  {
   "cell_type": "code",
   "execution_count": 29,
   "id": "408c82a7",
   "metadata": {},
   "outputs": [
    {
     "name": "stdout",
     "output_type": "stream",
     "text": [
      "<class 'pandas.core.frame.DataFrame'>\n",
      "RangeIndex: 8784 entries, 0 to 8783\n",
      "Data columns (total 8 columns):\n",
      " #   Column             Non-Null Count  Dtype  \n",
      "---  ------             --------------  -----  \n",
      " 0   date_time          8784 non-null   object \n",
      " 1   temp_c             8784 non-null   float64\n",
      " 2   dew_point          8784 non-null   float64\n",
      " 3   relative_himidity  8784 non-null   int64  \n",
      " 4   wind_speed         8784 non-null   int64  \n",
      " 5   visibility         8784 non-null   float64\n",
      " 6   pressure           8784 non-null   float64\n",
      " 7   weather            8784 non-null   object \n",
      "dtypes: float64(4), int64(2), object(2)\n",
      "memory usage: 549.1+ KB\n"
     ]
    }
   ],
   "source": [
    "df.info()"
   ]
  },
  {
   "cell_type": "markdown",
   "id": "cd887576",
   "metadata": {},
   "source": [
    "5. Get Standard Statistics for each column"
   ]
  },
  {
   "cell_type": "code",
   "execution_count": 33,
   "id": "0b3ab459",
   "metadata": {},
   "outputs": [
    {
     "data": {
      "text/plain": [
       "9.3"
      ]
     },
     "execution_count": 33,
     "metadata": {},
     "output_type": "execute_result"
    }
   ],
   "source": [
    "df.temp_c.mean()"
   ]
  },
  {
   "cell_type": "code",
   "execution_count": 35,
   "id": "2502ac01",
   "metadata": {},
   "outputs": [
    {
     "data": {
      "text/plain": [
       "9.3"
      ]
     },
     "execution_count": 35,
     "metadata": {},
     "output_type": "execute_result"
    }
   ],
   "source": [
    "df.temp_c.median()"
   ]
  },
  {
   "cell_type": "code",
   "execution_count": 38,
   "id": "bb1888ad",
   "metadata": {},
   "outputs": [
    {
     "data": {
      "text/plain": [
       "2.555293715847001"
      ]
     },
     "execution_count": 38,
     "metadata": {},
     "output_type": "execute_result"
    }
   ],
   "source": [
    "df.dew_point.mean()"
   ]
  },
  {
   "cell_type": "code",
   "execution_count": 39,
   "id": "fc536b7e",
   "metadata": {},
   "outputs": [
    {
     "data": {
      "text/plain": [
       "3.3"
      ]
     },
     "execution_count": 39,
     "metadata": {},
     "output_type": "execute_result"
    }
   ],
   "source": [
    "df.dew_point.median()"
   ]
  },
  {
   "cell_type": "code",
   "execution_count": 42,
   "id": "d8d58118",
   "metadata": {},
   "outputs": [
    {
     "data": {
      "text/plain": [
       "27.66444672131151"
      ]
     },
     "execution_count": 42,
     "metadata": {},
     "output_type": "execute_result"
    }
   ],
   "source": [
    "df.visibility.mean()"
   ]
  },
  {
   "cell_type": "code",
   "execution_count": 44,
   "id": "0cdc58ed",
   "metadata": {},
   "outputs": [
    {
     "data": {
      "text/plain": [
       "25.0"
      ]
     },
     "execution_count": 44,
     "metadata": {},
     "output_type": "execute_result"
    }
   ],
   "source": [
    "df.visibility.median()"
   ]
  },
  {
   "cell_type": "code",
   "execution_count": 45,
   "id": "1d8b3ecc",
   "metadata": {},
   "outputs": [
    {
     "data": {
      "text/plain": [
       "101.05162340619295"
      ]
     },
     "execution_count": 45,
     "metadata": {},
     "output_type": "execute_result"
    }
   ],
   "source": [
    "df.pressure.mean()"
   ]
  },
  {
   "cell_type": "code",
   "execution_count": 46,
   "id": "42dad8ff",
   "metadata": {},
   "outputs": [
    {
     "data": {
      "text/plain": [
       "101.07"
      ]
     },
     "execution_count": 46,
     "metadata": {},
     "output_type": "execute_result"
    }
   ],
   "source": [
    "df.pressure.median()"
   ]
  },
  {
   "cell_type": "markdown",
   "id": "9f3acfa4",
   "metadata": {},
   "source": [
    "6. Write the Code to turn temp_c into temp_f"
   ]
  },
  {
   "cell_type": "code",
   "execution_count": 49,
   "id": "b1998781",
   "metadata": {},
   "outputs": [],
   "source": [
    "df.insert(8, \"temp_f\", (df.temp_c * 9/5) + 32)"
   ]
  },
  {
   "cell_type": "markdown",
   "id": "bcb284b8",
   "metadata": {},
   "source": [
    "7. Put temp_f immediately before temp_c"
   ]
  },
  {
   "cell_type": "code",
   "execution_count": 52,
   "id": "07b920ae",
   "metadata": {},
   "outputs": [],
   "source": [
    "column_names=[\"date_time\",\"temp_f\",\"temp_c\",\"dew_point\",\"relative_himidity\",\n",
    "             \"wind_speed\",\"visibility\",\"pressure\",\"weather\"]\n",
    "df = df.reindex(columns=column_names)"
   ]
  },
  {
   "cell_type": "markdown",
   "id": "f3e44f34",
   "metadata": {},
   "source": [
    "df.info()"
   ]
  },
  {
   "cell_type": "markdown",
   "id": "c09a8939",
   "metadata": {},
   "source": [
    "8. Write code to display data types of all columns"
   ]
  },
  {
   "cell_type": "code",
   "execution_count": 58,
   "id": "b900b014",
   "metadata": {},
   "outputs": [
    {
     "name": "stdout",
     "output_type": "stream",
     "text": [
      "<class 'pandas.core.frame.DataFrame'>\n",
      "RangeIndex: 8784 entries, 0 to 8783\n",
      "Data columns (total 9 columns):\n",
      " #   Column             Non-Null Count  Dtype  \n",
      "---  ------             --------------  -----  \n",
      " 0   date_time          8784 non-null   object \n",
      " 1   temp_f             8784 non-null   float64\n",
      " 2   temp_c             8784 non-null   float64\n",
      " 3   dew_point          8784 non-null   float64\n",
      " 4   relative_himidity  8784 non-null   int64  \n",
      " 5   wind_speed         8784 non-null   int64  \n",
      " 6   visibility         8784 non-null   float64\n",
      " 7   pressure           8784 non-null   float64\n",
      " 8   weather            8784 non-null   object \n",
      "dtypes: float64(5), int64(2), object(2)\n",
      "memory usage: 617.8+ KB\n"
     ]
    }
   ],
   "source": [
    "df.info()"
   ]
  },
  {
   "cell_type": "markdown",
   "id": "26b0d63e",
   "metadata": {},
   "source": [
    "9. Turn date_time into a date/time Dtype"
   ]
  },
  {
   "cell_type": "code",
   "execution_count": 61,
   "id": "01475d45",
   "metadata": {},
   "outputs": [],
   "source": [
    "df['date_time']=pd.to_datetime(df['date_time'])"
   ]
  },
  {
   "cell_type": "code",
   "execution_count": 62,
   "id": "a0ea1fe1",
   "metadata": {},
   "outputs": [
    {
     "name": "stdout",
     "output_type": "stream",
     "text": [
      "<class 'pandas.core.frame.DataFrame'>\n",
      "RangeIndex: 8784 entries, 0 to 8783\n",
      "Data columns (total 9 columns):\n",
      " #   Column             Non-Null Count  Dtype         \n",
      "---  ------             --------------  -----         \n",
      " 0   date_time          8784 non-null   datetime64[ns]\n",
      " 1   temp_f             8784 non-null   float64       \n",
      " 2   temp_c             8784 non-null   float64       \n",
      " 3   dew_point          8784 non-null   float64       \n",
      " 4   relative_himidity  8784 non-null   int64         \n",
      " 5   wind_speed         8784 non-null   int64         \n",
      " 6   visibility         8784 non-null   float64       \n",
      " 7   pressure           8784 non-null   float64       \n",
      " 8   weather            8784 non-null   object        \n",
      "dtypes: datetime64[ns](1), float64(5), int64(2), object(1)\n",
      "memory usage: 617.8+ KB\n"
     ]
    }
   ],
   "source": [
    "df.info()"
   ]
  },
  {
   "cell_type": "markdown",
   "id": "9f5485a2",
   "metadata": {},
   "source": [
    "10. Get count weather designations and get 10 ten weather categories"
   ]
  },
  {
   "cell_type": "code",
   "execution_count": 63,
   "id": "cbde886d",
   "metadata": {},
   "outputs": [
    {
     "data": {
      "text/plain": [
       "50"
      ]
     },
     "execution_count": 63,
     "metadata": {},
     "output_type": "execute_result"
    }
   ],
   "source": [
    "df['weather'].nunique()"
   ]
  },
  {
   "cell_type": "code",
   "execution_count": 65,
   "id": "678842ef",
   "metadata": {},
   "outputs": [
    {
     "data": {
      "text/plain": [
       "Mainly Clear     2106\n",
       "Mostly Cloudy    2069\n",
       "Cloudy           1728\n",
       "Clear            1326\n",
       "Snow              390\n",
       "Rain              306\n",
       "Rain Showers      188\n",
       "Fog               150\n",
       "Rain,Fog          116\n",
       "Drizzle,Fog        80\n",
       "Name: weather, dtype: int64"
      ]
     },
     "execution_count": 65,
     "metadata": {},
     "output_type": "execute_result"
    }
   ],
   "source": [
    "df['weather'].value_counts()[:10]"
   ]
  },
  {
   "cell_type": "markdown",
   "id": "a662c859",
   "metadata": {},
   "source": [
    "11. Which month of the year, the temp_f more than 90, humidy less than 50, dew point more than 17, and the weather is clear? Extract and add to new data frame."
   ]
  },
  {
   "cell_type": "code",
   "execution_count": 84,
   "id": "57356644",
   "metadata": {},
   "outputs": [],
   "source": [
    "df2=(df.loc[(df['temp_f'] > 90) & (df['relative_himidity'] < 50) & (df['dew_point'] > 17) & (df['weather'] == \"Clear\")])"
   ]
  },
  {
   "cell_type": "code",
   "execution_count": 85,
   "id": "1853e17f",
   "metadata": {
    "scrolled": false
   },
   "outputs": [
    {
     "data": {
      "text/html": [
       "<div>\n",
       "<style scoped>\n",
       "    .dataframe tbody tr th:only-of-type {\n",
       "        vertical-align: middle;\n",
       "    }\n",
       "\n",
       "    .dataframe tbody tr th {\n",
       "        vertical-align: top;\n",
       "    }\n",
       "\n",
       "    .dataframe thead th {\n",
       "        text-align: right;\n",
       "    }\n",
       "</style>\n",
       "<table border=\"1\" class=\"dataframe\">\n",
       "  <thead>\n",
       "    <tr style=\"text-align: right;\">\n",
       "      <th></th>\n",
       "      <th>date_time</th>\n",
       "      <th>temp_f</th>\n",
       "      <th>temp_c</th>\n",
       "      <th>dew_point</th>\n",
       "      <th>relative_himidity</th>\n",
       "      <th>wind_speed</th>\n",
       "      <th>visibility</th>\n",
       "      <th>pressure</th>\n",
       "      <th>weather</th>\n",
       "    </tr>\n",
       "  </thead>\n",
       "  <tbody>\n",
       "    <tr>\n",
       "      <th>5199</th>\n",
       "      <td>2012-08-04 15:00:00</td>\n",
       "      <td>91.04</td>\n",
       "      <td>32.8</td>\n",
       "      <td>18.8</td>\n",
       "      <td>44</td>\n",
       "      <td>17</td>\n",
       "      <td>24.1</td>\n",
       "      <td>101.39</td>\n",
       "      <td>Clear</td>\n",
       "    </tr>\n",
       "    <tr>\n",
       "      <th>5200</th>\n",
       "      <td>2012-08-04 16:00:00</td>\n",
       "      <td>90.50</td>\n",
       "      <td>32.5</td>\n",
       "      <td>18.5</td>\n",
       "      <td>44</td>\n",
       "      <td>15</td>\n",
       "      <td>24.1</td>\n",
       "      <td>101.34</td>\n",
       "      <td>Clear</td>\n",
       "    </tr>\n",
       "    <tr>\n",
       "      <th>5201</th>\n",
       "      <td>2012-08-04 17:00:00</td>\n",
       "      <td>90.50</td>\n",
       "      <td>32.5</td>\n",
       "      <td>19.8</td>\n",
       "      <td>47</td>\n",
       "      <td>13</td>\n",
       "      <td>24.1</td>\n",
       "      <td>101.32</td>\n",
       "      <td>Clear</td>\n",
       "    </tr>\n",
       "  </tbody>\n",
       "</table>\n",
       "</div>"
      ],
      "text/plain": [
       "               date_time  temp_f  temp_c  dew_point  relative_himidity  \\\n",
       "5199 2012-08-04 15:00:00   91.04    32.8       18.8                 44   \n",
       "5200 2012-08-04 16:00:00   90.50    32.5       18.5                 44   \n",
       "5201 2012-08-04 17:00:00   90.50    32.5       19.8                 47   \n",
       "\n",
       "      wind_speed  visibility  pressure weather  \n",
       "5199          17        24.1    101.39   Clear  \n",
       "5200          15        24.1    101.34   Clear  \n",
       "5201          13        24.1    101.32   Clear  "
      ]
     },
     "execution_count": 85,
     "metadata": {},
     "output_type": "execute_result"
    }
   ],
   "source": [
    "df2"
   ]
  },
  {
   "cell_type": "markdown",
   "id": "3f1c3f10",
   "metadata": {},
   "source": [
    "12. Extract month information from previous problem and create new column named dt.month"
   ]
  },
  {
   "cell_type": "code",
   "execution_count": 88,
   "id": "dd174126",
   "metadata": {
    "scrolled": true
   },
   "outputs": [
    {
     "name": "stderr",
     "output_type": "stream",
     "text": [
      "C:\\Users\\gabem\\AppData\\Local\\Temp/ipykernel_28572/3742940477.py:1: SettingWithCopyWarning: \n",
      "A value is trying to be set on a copy of a slice from a DataFrame.\n",
      "Try using .loc[row_indexer,col_indexer] = value instead\n",
      "\n",
      "See the caveats in the documentation: https://pandas.pydata.org/pandas-docs/stable/user_guide/indexing.html#returning-a-view-versus-a-copy\n",
      "  df2['dt.month'] = pd.DatetimeIndex(df2['date_time']).month\n"
     ]
    }
   ],
   "source": [
    "df2['dt.month'] = pd.DatetimeIndex(df2['date_time']).month"
   ]
  },
  {
   "cell_type": "code",
   "execution_count": 89,
   "id": "8228d831",
   "metadata": {},
   "outputs": [
    {
     "data": {
      "text/html": [
       "<div>\n",
       "<style scoped>\n",
       "    .dataframe tbody tr th:only-of-type {\n",
       "        vertical-align: middle;\n",
       "    }\n",
       "\n",
       "    .dataframe tbody tr th {\n",
       "        vertical-align: top;\n",
       "    }\n",
       "\n",
       "    .dataframe thead th {\n",
       "        text-align: right;\n",
       "    }\n",
       "</style>\n",
       "<table border=\"1\" class=\"dataframe\">\n",
       "  <thead>\n",
       "    <tr style=\"text-align: right;\">\n",
       "      <th></th>\n",
       "      <th>date_time</th>\n",
       "      <th>temp_f</th>\n",
       "      <th>temp_c</th>\n",
       "      <th>dew_point</th>\n",
       "      <th>relative_himidity</th>\n",
       "      <th>wind_speed</th>\n",
       "      <th>visibility</th>\n",
       "      <th>pressure</th>\n",
       "      <th>weather</th>\n",
       "      <th>dt.month</th>\n",
       "    </tr>\n",
       "  </thead>\n",
       "  <tbody>\n",
       "    <tr>\n",
       "      <th>5199</th>\n",
       "      <td>2012-08-04 15:00:00</td>\n",
       "      <td>91.04</td>\n",
       "      <td>32.8</td>\n",
       "      <td>18.8</td>\n",
       "      <td>44</td>\n",
       "      <td>17</td>\n",
       "      <td>24.1</td>\n",
       "      <td>101.39</td>\n",
       "      <td>Clear</td>\n",
       "      <td>8</td>\n",
       "    </tr>\n",
       "    <tr>\n",
       "      <th>5200</th>\n",
       "      <td>2012-08-04 16:00:00</td>\n",
       "      <td>90.50</td>\n",
       "      <td>32.5</td>\n",
       "      <td>18.5</td>\n",
       "      <td>44</td>\n",
       "      <td>15</td>\n",
       "      <td>24.1</td>\n",
       "      <td>101.34</td>\n",
       "      <td>Clear</td>\n",
       "      <td>8</td>\n",
       "    </tr>\n",
       "    <tr>\n",
       "      <th>5201</th>\n",
       "      <td>2012-08-04 17:00:00</td>\n",
       "      <td>90.50</td>\n",
       "      <td>32.5</td>\n",
       "      <td>19.8</td>\n",
       "      <td>47</td>\n",
       "      <td>13</td>\n",
       "      <td>24.1</td>\n",
       "      <td>101.32</td>\n",
       "      <td>Clear</td>\n",
       "      <td>8</td>\n",
       "    </tr>\n",
       "  </tbody>\n",
       "</table>\n",
       "</div>"
      ],
      "text/plain": [
       "               date_time  temp_f  temp_c  dew_point  relative_himidity  \\\n",
       "5199 2012-08-04 15:00:00   91.04    32.8       18.8                 44   \n",
       "5200 2012-08-04 16:00:00   90.50    32.5       18.5                 44   \n",
       "5201 2012-08-04 17:00:00   90.50    32.5       19.8                 47   \n",
       "\n",
       "      wind_speed  visibility  pressure weather  dt.month  \n",
       "5199          17        24.1    101.39   Clear         8  \n",
       "5200          15        24.1    101.34   Clear         8  \n",
       "5201          13        24.1    101.32   Clear         8  "
      ]
     },
     "execution_count": 89,
     "metadata": {},
     "output_type": "execute_result"
    }
   ],
   "source": [
    "df2"
   ]
  }
 ],
 "metadata": {
  "kernelspec": {
   "display_name": "Python 3 (ipykernel)",
   "language": "python",
   "name": "python3"
  },
  "language_info": {
   "codemirror_mode": {
    "name": "ipython",
    "version": 3
   },
   "file_extension": ".py",
   "mimetype": "text/x-python",
   "name": "python",
   "nbconvert_exporter": "python",
   "pygments_lexer": "ipython3",
   "version": "3.9.7"
  }
 },
 "nbformat": 4,
 "nbformat_minor": 5
}
